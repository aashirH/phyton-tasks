{
 "cells": [
  {
   "cell_type": "code",
   "execution_count": 1,
   "metadata": {},
   "outputs": [
    {
     "name": "stdout",
     "output_type": "stream",
     "text": [
      "[{'Students_ID': '1567-2015', 'Name': 'Sohail', 'Last_Name': 'Khan'}, {'Students_ID': '0011-2015', 'Name': 'Shakeel', 'Last_Name': 'Hiader'}, {'Students_ID': '1010-2015', 'Name': 'Faizan', 'Last_Name': 'ul haq'}]\n",
      "\n",
      "[{'Students_ID': '1567-2015', 'Name': 'Sohail', 'Last_Name': 'Khan'}, {'Students_ID': '0011-2015', 'Name': 'Shakeel', 'Last_Name': 'Hiader'}, {'Students_ID': '1010-2015', 'Name': 'Faizan', 'Last_Name': 'ul haq'}, {'Students_ID': '1438-2015', 'Name': 'Muhammad Aashir', 'Last_Name': 'Arain'}]\n"
     ]
    }
   ],
   "source": [
    "Students = [\n",
    "    {\n",
    "    \"Students_ID\" : \"1567-2015\",\n",
    "    \"Name\" : \"Sohail\",\n",
    "    \"Last_Name\" : \"Khan\",\n",
    "    },\n",
    "      {\n",
    "    \"Students_ID\" : \"0011-2015\",\n",
    "    \"Name\" : \"Shakeel\",\n",
    "    \"Last_Name\" : \"Hiader\",\n",
    "    },                                  #Creating a list of dictionaries\n",
    "      {\n",
    "    \"Students_ID\" : \"1010-2015\",\n",
    "    \"Name\" : \"Faizan\",\n",
    "    \"Last_Name\" : \"ul haq\",\n",
    "    },\n",
    "    \n",
    "]\n",
    "print (Students)\n",
    "\n",
    "print(\"\")\n",
    "\n",
    "newStudent = {\n",
    "     \"Students_ID\" : \"1438-2015\",\n",
    "    \"Name\" : \"Muhammad Aashir\",\n",
    "    \"Last_Name\" : \"Arain\",\n",
    "      \n",
    "}\n",
    "Students.append(newStudent)                       #Append a new dictionary to a list of dictionaries\n",
    "print (Students)"
   ]
  },
  {
   "cell_type": "code",
   "execution_count": null,
   "metadata": {},
   "outputs": [],
   "source": []
  }
 ],
 "metadata": {
  "kernelspec": {
   "display_name": "Python 3",
   "language": "python",
   "name": "python3"
  },
  "language_info": {
   "codemirror_mode": {
    "name": "ipython",
    "version": 3
   },
   "file_extension": ".py",
   "mimetype": "text/x-python",
   "name": "python",
   "nbconvert_exporter": "python",
   "pygments_lexer": "ipython3",
   "version": "3.6.5"
  }
 },
 "nbformat": 4,
 "nbformat_minor": 2
}
