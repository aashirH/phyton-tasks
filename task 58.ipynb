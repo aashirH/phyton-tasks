{
 "cells": [
  {
   "cell_type": "code",
   "execution_count": 4,
   "metadata": {},
   "outputs": [
    {
     "name": "stdout",
     "output_type": "stream",
     "text": [
      "aasahir arain you a confirmed user\n",
      "aasahir arain your not yet confirmed\n"
     ]
    }
   ],
   "source": [
    "class User:\n",
    "    def __init__(self, name):\n",
    "        self.name = name\n",
    "        self.confirmed = True\n",
    "    \n",
    "    def is_confirmed(self):\n",
    "        if self.confirmed:\n",
    "            return '%s you a confirmed user' % self.name\n",
    "        return '%s your not yet confirmed' %  self.name\n",
    "\n",
    "if __name__ == '__main__':\n",
    "    user1 = User('aasahir arain')\n",
    "    print(user1.is_confirmed())\n",
    "    user1.confirmed = False\n",
    "    print(user1.is_confirmed())"
   ]
  }
 ],
 "metadata": {
  "kernelspec": {
   "display_name": "Python 3",
   "language": "python",
   "name": "python3"
  },
  "language_info": {
   "codemirror_mode": {
    "name": "ipython",
    "version": 3
   },
   "file_extension": ".py",
   "mimetype": "text/x-python",
   "name": "python",
   "nbconvert_exporter": "python",
   "pygments_lexer": "ipython3",
   "version": "3.7.1"
  }
 },
 "nbformat": 4,
 "nbformat_minor": 2
}
