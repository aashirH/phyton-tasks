{
 "cells": [
  {
   "cell_type": "code",
   "execution_count": 2,
   "metadata": {},
   "outputs": [
    {
     "name": "stdout",
     "output_type": "stream",
     "text": [
      "Biryani and  Sajji, both are very tasty !\n"
     ]
    }
   ],
   "source": [
    "foods = [ \"Nihari\", \"Biryani\", \"Karahi\", \"Qorma\", \"Salad\", \"Kabab\", \"Sajji\" ];\n",
    "\n",
    "print(str(foods[1]) + \" and  \" + str(foods[6])+\", both are very tasty !\");"
   ]
  }
 ],
 "metadata": {
  "kernelspec": {
   "display_name": "Python 3",
   "language": "python",
   "name": "python3"
  },
  "language_info": {
   "codemirror_mode": {
    "name": "ipython",
    "version": 3
   },
   "file_extension": ".py",
   "mimetype": "text/x-python",
   "name": "python",
   "nbconvert_exporter": "python",
   "pygments_lexer": "ipython3",
   "version": "3.6.5"
  }
 },
 "nbformat": 4,
 "nbformat_minor": 2
}
