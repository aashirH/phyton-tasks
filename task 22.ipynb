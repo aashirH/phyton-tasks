{
 "cells": [
  {
   "cell_type": "code",
   "execution_count": 2,
   "metadata": {},
   "outputs": [
    {
     "name": "stdout",
     "output_type": "stream",
     "text": [
      "['Muhammad Arain']\n",
      "['Muhammad Arain', 'Muhammad Niazi']\n",
      "['Muhammad Arain', 'Muhammad Niazi', 'Muhammad Bloch']\n",
      "['Muhammad Arain', 'Muhammad Niazi', 'Muhammad Bloch', 'Muhammad siddique']\n",
      "['Muhammad Arain', 'Muhammad Niazi', 'Muhammad Bloch', 'Muhammad siddique', 'Aashir  Arain']\n",
      "['Muhammad Arain', 'Muhammad Niazi', 'Muhammad Bloch', 'Muhammad siddique', 'Aashir  Arain', 'Aashir  Niazi']\n",
      "['Muhammad Arain', 'Muhammad Niazi', 'Muhammad Bloch', 'Muhammad siddique', 'Aashir  Arain', 'Aashir  Niazi', 'Aashir  Bloch']\n",
      "['Muhammad Arain', 'Muhammad Niazi', 'Muhammad Bloch', 'Muhammad siddique', 'Aashir  Arain', 'Aashir  Niazi', 'Aashir  Bloch', 'Aashir  siddique']\n",
      "['Muhammad Arain', 'Muhammad Niazi', 'Muhammad Bloch', 'Muhammad siddique', 'Aashir  Arain', 'Aashir  Niazi', 'Aashir  Bloch', 'Aashir  siddique', 'faizan  Arain']\n",
      "['Muhammad Arain', 'Muhammad Niazi', 'Muhammad Bloch', 'Muhammad siddique', 'Aashir  Arain', 'Aashir  Niazi', 'Aashir  Bloch', 'Aashir  siddique', 'faizan  Arain', 'faizan  Niazi']\n",
      "['Muhammad Arain', 'Muhammad Niazi', 'Muhammad Bloch', 'Muhammad siddique', 'Aashir  Arain', 'Aashir  Niazi', 'Aashir  Bloch', 'Aashir  siddique', 'faizan  Arain', 'faizan  Niazi', 'faizan  Bloch']\n",
      "['Muhammad Arain', 'Muhammad Niazi', 'Muhammad Bloch', 'Muhammad siddique', 'Aashir  Arain', 'Aashir  Niazi', 'Aashir  Bloch', 'Aashir  siddique', 'faizan  Arain', 'faizan  Niazi', 'faizan  Bloch', 'faizan  siddique']\n",
      "['Muhammad Arain', 'Muhammad Niazi', 'Muhammad Bloch', 'Muhammad siddique', 'Aashir  Arain', 'Aashir  Niazi', 'Aashir  Bloch', 'Aashir  siddique', 'faizan  Arain', 'faizan  Niazi', 'faizan  Bloch', 'faizan  siddique', 'safi  Arain']\n",
      "['Muhammad Arain', 'Muhammad Niazi', 'Muhammad Bloch', 'Muhammad siddique', 'Aashir  Arain', 'Aashir  Niazi', 'Aashir  Bloch', 'Aashir  siddique', 'faizan  Arain', 'faizan  Niazi', 'faizan  Bloch', 'faizan  siddique', 'safi  Arain', 'safi  Niazi']\n",
      "['Muhammad Arain', 'Muhammad Niazi', 'Muhammad Bloch', 'Muhammad siddique', 'Aashir  Arain', 'Aashir  Niazi', 'Aashir  Bloch', 'Aashir  siddique', 'faizan  Arain', 'faizan  Niazi', 'faizan  Bloch', 'faizan  siddique', 'safi  Arain', 'safi  Niazi', 'safi  Bloch']\n",
      "['Muhammad Arain', 'Muhammad Niazi', 'Muhammad Bloch', 'Muhammad siddique', 'Aashir  Arain', 'Aashir  Niazi', 'Aashir  Bloch', 'Aashir  siddique', 'faizan  Arain', 'faizan  Niazi', 'faizan  Bloch', 'faizan  siddique', 'safi  Arain', 'safi  Niazi', 'safi  Bloch', 'safi  siddique']\n",
      "['Muhammad Arain', 'Muhammad Niazi', 'Muhammad Bloch', 'Muhammad siddique', 'Aashir  Arain', 'Aashir  Niazi', 'Aashir  Bloch', 'Aashir  siddique', 'faizan  Arain', 'faizan  Niazi', 'faizan  Bloch', 'faizan  siddique', 'safi  Arain', 'safi  Niazi', 'safi  Bloch', 'safi  siddique', 'Nafees  Arain']\n",
      "['Muhammad Arain', 'Muhammad Niazi', 'Muhammad Bloch', 'Muhammad siddique', 'Aashir  Arain', 'Aashir  Niazi', 'Aashir  Bloch', 'Aashir  siddique', 'faizan  Arain', 'faizan  Niazi', 'faizan  Bloch', 'faizan  siddique', 'safi  Arain', 'safi  Niazi', 'safi  Bloch', 'safi  siddique', 'Nafees  Arain', 'Nafees  Niazi']\n",
      "['Muhammad Arain', 'Muhammad Niazi', 'Muhammad Bloch', 'Muhammad siddique', 'Aashir  Arain', 'Aashir  Niazi', 'Aashir  Bloch', 'Aashir  siddique', 'faizan  Arain', 'faizan  Niazi', 'faizan  Bloch', 'faizan  siddique', 'safi  Arain', 'safi  Niazi', 'safi  Bloch', 'safi  siddique', 'Nafees  Arain', 'Nafees  Niazi', 'Nafees  Bloch']\n",
      "['Muhammad Arain', 'Muhammad Niazi', 'Muhammad Bloch', 'Muhammad siddique', 'Aashir  Arain', 'Aashir  Niazi', 'Aashir  Bloch', 'Aashir  siddique', 'faizan  Arain', 'faizan  Niazi', 'faizan  Bloch', 'faizan  siddique', 'safi  Arain', 'safi  Niazi', 'safi  Bloch', 'safi  siddique', 'Nafees  Arain', 'Nafees  Niazi', 'Nafees  Bloch', 'Nafees  siddique']\n"
     ]
    }
   ],
   "source": [
    "first_names = [\"Muhammad\", \"Aashir \", \"faizan \", \"safi \", \"Nafees \"] \n",
    "last_names = [\"Arain\", \"Niazi\", \"Bloch\", \"siddique\"] \n",
    "full_names = []   \n",
    "for a_first_name in first_names:  \n",
    "    for a_last_name in last_names:  \n",
    "        full_names.append(a_first_name + \" \" + a_last_name) \n",
    "        print (full_names)"
   ]
  },
  {
   "cell_type": "code",
   "execution_count": null,
   "metadata": {},
   "outputs": [],
   "source": []
  }
 ],
 "metadata": {
  "kernelspec": {
   "display_name": "Python 3",
   "language": "python",
   "name": "python3"
  },
  "language_info": {
   "codemirror_mode": {
    "name": "ipython",
    "version": 3
   },
   "file_extension": ".py",
   "mimetype": "text/x-python",
   "name": "python",
   "nbconvert_exporter": "python",
   "pygments_lexer": "ipython3",
   "version": "3.6.5"
  }
 },
 "nbformat": 4,
 "nbformat_minor": 2
}
