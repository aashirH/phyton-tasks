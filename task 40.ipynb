{
 "cells": [
  {
   "cell_type": "code",
   "execution_count": 1,
   "metadata": {},
   "outputs": [
    {
     "name": "stdout",
     "output_type": "stream",
     "text": [
      "{'First name': 'Sohail', 'Middle name': 'Khan', 'Last name': 'Niazi', 'Address': 'Balida Town'}\n",
      "{'First Name': 'Muhammad', 'Middle name': 'Aashir', 'Last Name': 'Arain', 'Address': 'Gulshan e iqbal'}\n"
     ]
    }
   ],
   "source": [
    "customers = {\n",
    "  0:  {\n",
    "         \"First name\":\"Sohail\",\n",
    "         \"Middle name\": \"Khan\",\n",
    "         \"Last name\": \"Niazi\",\n",
    "         \"Address\": \"Balida Town\", \n",
    "    },\n",
    " 1:  {\n",
    "        \"First Name\":\"Muhammad\",\n",
    "      \"Middle name\": \"Aashir\",\n",
    "        \"Last Name\": \"Arain\",\n",
    "        \"Address\": \"Gulshan e iqbal\", \n",
    "    },\n",
    "}\n",
    "print(customers[0])\n",
    "print(customers[1])"
   ]
  },
  {
   "cell_type": "code",
   "execution_count": null,
   "metadata": {},
   "outputs": [],
   "source": []
  }
 ],
 "metadata": {
  "kernelspec": {
   "display_name": "Python 3",
   "language": "python",
   "name": "python3"
  },
  "language_info": {
   "codemirror_mode": {
    "name": "ipython",
    "version": 3
   },
   "file_extension": ".py",
   "mimetype": "text/x-python",
   "name": "python",
   "nbconvert_exporter": "python",
   "pygments_lexer": "ipython3",
   "version": "3.6.5"
  }
 },
 "nbformat": 4,
 "nbformat_minor": 2
}
