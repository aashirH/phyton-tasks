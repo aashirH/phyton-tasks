{
 "cells": [
  {
   "cell_type": "code",
   "execution_count": 1,
   "metadata": {},
   "outputs": [
    {
     "name": "stdout",
     "output_type": "stream",
     "text": [
      "[{'customer id': 0, 'first name': 'Aashir', 'last name': 'Arain', 'address': 'North Nazimabad'}, {'customer id': 2, 'first name': 'Faizan', 'last name': 'ul haq', 'address': 'F.B area'}]\n"
     ]
    }
   ],
   "source": [
    "customers = [\n",
    "    {\n",
    "         \"customer id\": 0,\n",
    "         \"first name\":\"Aashir\",\n",
    "         \"last name\": \"Arain\",\n",
    "         \"address\": \"North Nazimabad\", \n",
    "    },\n",
    "\n",
    "    {\n",
    "        \"customer id\": 2, \n",
    "        \"first name\":\"Faizan\",\n",
    "        \"last name\": \"ul haq\",\n",
    "        \"address\": \"F.B area\", \n",
    "    },]\n",
    "\n",
    "print(str(customers))"
   ]
  },
  {
   "cell_type": "code",
   "execution_count": null,
   "metadata": {},
   "outputs": [],
   "source": []
  }
 ],
 "metadata": {
  "kernelspec": {
   "display_name": "Python 3",
   "language": "python",
   "name": "python3"
  },
  "language_info": {
   "codemirror_mode": {
    "name": "ipython",
    "version": 3
   },
   "file_extension": ".py",
   "mimetype": "text/x-python",
   "name": "python",
   "nbconvert_exporter": "python",
   "pygments_lexer": "ipython3",
   "version": "3.6.5"
  }
 },
 "nbformat": 4,
 "nbformat_minor": 2
}
