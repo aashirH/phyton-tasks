{
 "cells": [
  {
   "cell_type": "code",
   "execution_count": null,
   "metadata": {},
   "outputs": [],
   "source": [
    "# addition will takes place after multiplication and division\n",
    "num1 = 1 + 4 * 3 / 2;\n",
    "\n",
    "# same as 5 * 3 /2 \n",
    "num2 = (1 + 4) * 3 / 2;\n",
    "\n",
    "# same as 1+12/2 \n",
    "num3 = 1 + (4 * 3) / 2;\n",
    "\n",
    "print(\"python follow precedence rules\");\n",
    "\n",
    "# this should produce 7.5\n",
    "print(num1);\n",
    "print(num2);\n",
    "print(num3);"
   ]
  }
 ],
 "metadata": {
  "kernelspec": {
   "display_name": "Python 3",
   "language": "python",
   "name": "python3"
  },
  "language_info": {
   "codemirror_mode": {
    "name": "ipython",
    "version": 3
   },
   "file_extension": ".py",
   "mimetype": "text/x-python",
   "name": "python",
   "nbconvert_exporter": "python",
   "pygments_lexer": "ipython3",
   "version": "3.6.5"
  }
 },
 "nbformat": 4,
 "nbformat_minor": 2
}
