{
 "cells": [
  {
   "cell_type": "code",
   "execution_count": 1,
   "metadata": {},
   "outputs": [
    {
     "name": "stdout",
     "output_type": "stream",
     "text": [
      "Enter your name or write aashir\n",
      "Hello aashir !!!\n"
     ]
    }
   ],
   "source": [
    "def greeting(name=\"a\"):\n",
    "    if(name == \"a\"):\n",
    "        print(\"You didnt write your name\")\n",
    "    else:\n",
    "        print(\"Hello \" + str(name) + \" !!!\")\n",
    "        \n",
    "\n",
    "        \n",
    "var = input(\"Enter your name or write \")\n",
    "greeting(var)"
   ]
  },
  {
   "cell_type": "code",
   "execution_count": null,
   "metadata": {},
   "outputs": [],
   "source": []
  }
 ],
 "metadata": {
  "kernelspec": {
   "display_name": "Python 3",
   "language": "python",
   "name": "python3"
  },
  "language_info": {
   "codemirror_mode": {
    "name": "ipython",
    "version": 3
   },
   "file_extension": ".py",
   "mimetype": "text/x-python",
   "name": "python",
   "nbconvert_exporter": "python",
   "pygments_lexer": "ipython3",
   "version": "3.6.5"
  }
 },
 "nbformat": 4,
 "nbformat_minor": 2
}
